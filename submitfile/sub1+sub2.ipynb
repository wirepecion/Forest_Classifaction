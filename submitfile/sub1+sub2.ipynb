{
 "cells": [
  {
   "cell_type": "code",
   "execution_count": 1,
   "metadata": {},
   "outputs": [
    {
     "name": "stdout",
     "output_type": "stream",
     "text": [
      "Similarity Percentage: 71.33%\n"
     ]
    }
   ],
   "source": [
    "import pandas as pd\n",
    "\n",
    "# Load the CSV files\n",
    "df1 = pd.read_csv('gluon_submission.csv')\n",
    "df2 = pd.read_csv('NNAdamW.csv')\n",
    "\n",
    "# Ensure both DataFrames have the same shape\n",
    "if df1.shape != df2.shape:\n",
    "    print(\"The CSV files do not have the same shape.\")\n",
    "else:\n",
    "    # Element-wise comparison\n",
    "    comparison = df1 == df2\n",
    "\n",
    "    # Count the number of matching cells\n",
    "    matching_cells = comparison.values.sum()\n",
    "\n",
    "    # Total number of cells\n",
    "    total_cells = comparison.size\n",
    "\n",
    "    # Calculate the similarity percentage\n",
    "    similarity_percentage = (matching_cells / total_cells) * 100\n",
    "    print(f\"Similarity Percentage: {similarity_percentage:.2f}%\")\n"
   ]
  },
  {
   "cell_type": "code",
   "execution_count": null,
   "metadata": {},
   "outputs": [],
   "source": []
  }
 ],
 "metadata": {
  "kernelspec": {
   "display_name": "Python 3",
   "language": "python",
   "name": "python3"
  },
  "language_info": {
   "codemirror_mode": {
    "name": "ipython",
    "version": 3
   },
   "file_extension": ".py",
   "mimetype": "text/x-python",
   "name": "python",
   "nbconvert_exporter": "python",
   "pygments_lexer": "ipython3",
   "version": "3.12.3"
  }
 },
 "nbformat": 4,
 "nbformat_minor": 2
}
