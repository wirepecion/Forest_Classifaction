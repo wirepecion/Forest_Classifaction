{
 "cells": [
  {
   "cell_type": "code",
   "execution_count": 17,
   "metadata": {},
   "outputs": [],
   "source": [
    "import pandas as pd\n",
    "import numpy as np\n",
    "from sklearn.preprocessing import LabelEncoder, StandardScaler\n",
    "from sklearn.decomposition import PCA\n",
    "from sklearn.model_selection import train_test_split, GridSearchCV, cross_val_score\n",
    "from imblearn.over_sampling import SMOTE\n",
    "from sklearn.linear_model import LinearRegression, RidgeClassifier\n",
    "from sklearn.metrics import accuracy_score"
   ]
  },
  {
   "cell_type": "code",
   "execution_count": 18,
   "metadata": {},
   "outputs": [],
   "source": [
    "# Load datasets\n",
    "train_df = pd.read_csv('train.csv')\n",
    "test_df = pd.read_csv('test.csv')\n",
    "\n",
    "# Feature engineering\n",
    "for df in [train_df, test_df]:\n",
    "    df['b9'] = df['b9'].fillna(0)\n",
    "    df['NBR'] = (df['b8'] - df['b12']) / (df['b8'] + df['b12'])\n",
    "    df['b12'] = df['b12'].fillna(0)\n",
    "    df['b11'] = df['b11'].fillna(0)\n",
    "    df['NDMI2'] = (df['b8'] - df['b11']) / (df['b8'] + df['b11'])\n",
    "    df['b6'] = df['b6'].fillna(0)\n",
    "    df['NDSI'] = (df['b3'] - df['b11']) / (df['b3'] + df['b11'])\n",
    "    df['b8_a'] = df['b8_a'].fillna(0)\n",
    "    df['b8'] = df['b8'].fillna(0)\n",
    "    df['b5'] = df['b5'].fillna(0)\n",
    "    df[\"EVI\"]  = 2.5*(((df[\"b8\"]-df[\"b4\"])/(df[\"b8\"]+6*df[\"b6\"]-7.5*df[\"b2\"]))+1)\n",
    "    df[\"EVI2\"] = 2.4 * (df[\"b8\"] - df[\"b4\"]) / (df[\"b8\"] + df[\"b4\"] + 1.0)\n",
    "    df[\"GNDVI\"] = (df[\"b8\"] - df[\"b3\"]) / (df[\"b8\"] + df[\"b3\"])\n",
    "    df[\"NDVI\"] = (df[\"b8\"] - df[\"b4\"]) / (df[\"b8\"] + df[\"b4\"])\n",
    "\n",
    "# Encode the target variable\n",
    "label_encoder = LabelEncoder()\n",
    "train_df['nforest_type_encoded'] = label_encoder.fit_transform(train_df['nforest_type'])\n",
    "\n",
    "# Define features and target\n",
    "X = train_df.drop(columns=['id', 'nforest_type', 'nforest_type_encoded'])\n",
    "y = train_df['nforest_type_encoded']\n",
    "\n",
    "# Standardize the features\n",
    "scaler = StandardScaler()\n",
    "X_scaled = scaler.fit_transform(X)\n",
    "\n",
    "# Optionally, use PCA for dimensionality reduction\n",
    "pca = PCA(n_components=10)  # Adjust n_components as needed\n",
    "X_pca = pca.fit_transform(X_scaled)\n",
    "\n",
    "# Split the transformed data into training and validation sets\n",
    "X_train, X_val, y_train, y_val = train_test_split(X_pca, y, test_size=0.2, random_state=42)"
   ]
  },
  {
   "cell_type": "code",
   "execution_count": 19,
   "metadata": {},
   "outputs": [],
   "source": [
    "# Data Augmentation using SMOTE\n",
    "smote = SMOTE(random_state=42)\n",
    "X_train_smote, y_train_smote = smote.fit_resample(X_train, y_train)"
   ]
  },
  {
   "cell_type": "code",
   "execution_count": 28,
   "metadata": {},
   "outputs": [],
   "source": [
    "from sklearn.linear_model import LogisticRegression\n",
    "from sklearn.ensemble import RandomForestClassifier, GradientBoostingClassifier\n",
    "from sklearn.svm import SVC"
   ]
  },
  {
   "cell_type": "code",
   "execution_count": 29,
   "metadata": {},
   "outputs": [],
   "source": [
    "# Define classification models\n",
    "models = {\n",
    "    'Ridge': RidgeClassifier(),\n",
    "    'LogisticRegression': LogisticRegression(max_iter=1000),\n",
    "    'RandomForest': RandomForestClassifier(),\n",
    "    'GradientBoosting': GradientBoostingClassifier(),\n",
    "    'SVC': SVC(probability=True)\n",
    "}\n",
    "\n",
    "# Define hyperparameter grids for each model\n",
    "param_grids = {\n",
    "    'Ridge': {'alpha': [0.1, 1.0, 10.0, 100.0]},\n",
    "    'LogisticRegression': {'C': [0.01, 0.1, 1, 10]},\n",
    "    'RandomForest': {'n_estimators': [100, 200], 'max_depth': [None, 10, 20]},\n",
    "    'GradientBoosting': {'n_estimators': [100, 200], 'learning_rate': [0.01, 0.1], 'max_depth': [3, 5]},\n",
    "    'SVC': {'C': [0.1, 1, 10], 'kernel': ['linear', 'rbf']}\n",
    "}"
   ]
  },
  {
   "cell_type": "code",
   "execution_count": 30,
   "metadata": {},
   "outputs": [],
   "source": [
    "# Function to perform hyperparameter tuning and cross-validation\n",
    "def tune_and_evaluate(models, param_grids, X_train, y_train):\n",
    "    best_models = {}\n",
    "    for model_name, model in models.items():\n",
    "        print(f\"Processing {model_name}...\")\n",
    "        grid_search = GridSearchCV(estimator=model, param_grid=param_grids[model_name], cv=3, n_jobs=-1, verbose=2)\n",
    "        grid_search.fit(X_train, y_train)\n",
    "        best_model = grid_search.best_estimator_\n",
    "        best_models[model_name] = best_model\n",
    "        print(f\"Best parameters for {model_name}: {grid_search.best_params_}\")\n",
    "        scores = cross_val_score(best_model, X_train, y_train, cv=5, scoring='accuracy')\n",
    "        print(f\"Cross-validation scores for {model_name}: {scores}\")\n",
    "        print(f\"Mean cross-validation score for {model_name}: {scores.mean()}\\n\")\n",
    "    return best_models"
   ]
  },
  {
   "cell_type": "code",
   "execution_count": 31,
   "metadata": {},
   "outputs": [
    {
     "name": "stdout",
     "output_type": "stream",
     "text": [
      "Processing Ridge...\n",
      "Fitting 3 folds for each of 4 candidates, totalling 12 fits\n",
      "Best parameters for Ridge: {'alpha': 100.0}\n",
      "Cross-validation scores for Ridge: [0.61612216 0.58806818 0.60901989 0.60014205 0.60106572]\n",
      "Mean cross-validation score for Ridge: 0.6028835984175682\n",
      "\n",
      "Processing LogisticRegression...\n",
      "Fitting 3 folds for each of 4 candidates, totalling 12 fits\n",
      "Best parameters for LogisticRegression: {'C': 0.1}\n",
      "Cross-validation scores for LogisticRegression: [0.63139205 0.5859375  0.61612216 0.59872159 0.61172291]\n",
      "Mean cross-validation score for LogisticRegression: 0.6087792416841595\n",
      "\n",
      "Processing RandomForest...\n",
      "Fitting 3 folds for each of 6 candidates, totalling 18 fits\n",
      "Best parameters for RandomForest: {'max_depth': None, 'n_estimators': 200}\n",
      "Cross-validation scores for RandomForest: [0.7631392  0.73828125 0.76598011 0.76455966 0.84262877]\n",
      "Mean cross-validation score for RandomForest: 0.7749178003390925\n",
      "\n",
      "Processing GradientBoosting...\n",
      "Fitting 3 folds for each of 8 candidates, totalling 24 fits\n",
      "Best parameters for GradientBoosting: {'learning_rate': 0.1, 'max_depth': 5, 'n_estimators': 200}\n",
      "Cross-validation scores for GradientBoosting: [0.70703125 0.70205966 0.7290483  0.70490057 0.75772647]\n",
      "Mean cross-validation score for GradientBoosting: 0.7201532476182788\n",
      "\n",
      "Processing SVC...\n",
      "Fitting 3 folds for each of 6 candidates, totalling 18 fits\n",
      "Best parameters for SVC: {'C': 10, 'kernel': 'rbf'}\n",
      "Cross-validation scores for SVC: [0.71590909 0.68110795 0.71946023 0.70205966 0.72753108]\n",
      "Mean cross-validation score for SVC: 0.7092136030599063\n",
      "\n"
     ]
    }
   ],
   "source": [
    "# Perform tuning and evaluation\n",
    "best_models = tune_and_evaluate(models, param_grids, X_train_smote, y_train_smote)\n"
   ]
  },
  {
   "cell_type": "code",
   "execution_count": 33,
   "metadata": {},
   "outputs": [
    {
     "name": "stdout",
     "output_type": "stream",
     "text": [
      "Validation Accuracy for Ridge: 0.5948\n",
      "Validation Accuracy for LogisticRegression: 0.6063\n",
      "Validation Accuracy for RandomForest: 0.7001\n",
      "Validation Accuracy for GradientBoosting: 0.6821\n",
      "Validation Accuracy for SVC: 0.7078\n"
     ]
    }
   ],
   "source": [
    "# Compare models based on cross-validation scores\n",
    "for model_name, model in best_models.items():\n",
    "    val_predictions = model.predict(X_val)\n",
    "    val_accuracy = accuracy_score(y_val, val_predictions)\n",
    "    print(f'Validation Accuracy for {model_name}: {val_accuracy:.4f}')"
   ]
  },
  {
   "cell_type": "code",
   "execution_count": 4,
   "metadata": {},
   "outputs": [
    {
     "name": "stdout",
     "output_type": "stream",
     "text": [
      "Fitting 3 folds for each of 4 candidates, totalling 12 fits\n",
      "Best parameters found:  {'alpha': 100.0}\n"
     ]
    }
   ],
   "source": [
    "ridge = RidgeClassifier()\n",
    "grid_search = GridSearchCV(estimator=ridge, param_grid=param_grid, cv=3, n_jobs=-1, verbose=2)\n",
    "grid_search.fit(X_train_smote, y_train_smote)\n",
    "\n",
    "best_ridge = grid_search.best_estimator_\n",
    "print(\"Best parameters found: \", grid_search.best_params_)"
   ]
  },
  {
   "cell_type": "code",
   "execution_count": 34,
   "metadata": {},
   "outputs": [
    {
     "name": "stdout",
     "output_type": "stream",
     "text": [
      "Cross-validation scores:  [0.71590909 0.68110795 0.71946023 0.70205966 0.72753108]\n",
      "Mean cross-validation score:  0.7092136030599063\n"
     ]
    }
   ],
   "source": [
    "# Cross-Validation to evaluate the model\n",
    "scores = cross_val_score(model, X_train_smote, y_train_smote, cv=5, scoring='accuracy')\n",
    "print(\"Cross-validation scores: \", scores)\n",
    "print(\"Mean cross-validation score: \", scores.mean())"
   ]
  },
  {
   "cell_type": "code",
   "execution_count": 6,
   "metadata": {},
   "outputs": [
    {
     "name": "stdout",
     "output_type": "stream",
     "text": [
      "Validation Accuracy: 0.5948\n"
     ]
    }
   ],
   "source": [
    "# Evaluate the model on the validation set\n",
    "val_predictions = best_ridge.predict(X_val)\n",
    "val_accuracy = accuracy_score(y_val, val_predictions)\n",
    "print(f'Validation Accuracy: {val_accuracy:.4f}')"
   ]
  },
  {
   "cell_type": "code",
   "execution_count": 7,
   "metadata": {},
   "outputs": [],
   "source": [
    "# Prepare the test data\n",
    "test_X = test_df.drop(columns=['id'])\n",
    "test_X_scaled = scaler.transform(test_X)\n",
    "test_X_pca = pca.transform(test_X_scaled)\n",
    "\n",
    "# Make predictions on the test set\n",
    "test_predictions = best_ridge.predict(test_X_pca)\n",
    "test_predictions_decoded = label_encoder.inverse_transform(test_predictions)"
   ]
  },
  {
   "cell_type": "code",
   "execution_count": 8,
   "metadata": {},
   "outputs": [],
   "source": [
    "# Load your sample submission file\n",
    "sample_submission = pd.read_csv('sample_submission.csv')\n",
    "\n",
    "# Merge the test data with sample submission to fill in the predicted values\n",
    "predictions_df = pd.DataFrame({'id': test_df['id'], 'nforest_type': test_predictions_decoded})\n",
    "final_submission = sample_submission.merge(predictions_df, on='id', how='left', suffixes=('', '_predicted'))\n",
    "\n",
    "# Fill the missing values in sample submission with the predicted values\n",
    "final_submission['nforest_type'] = final_submission['nforest_type'].combine_first(final_submission['nforest_type_predicted'])\n",
    "\n",
    "# Drop the predicted column as it's no longer needed\n",
    "final_submission = final_submission.drop(columns=['nforest_type_predicted'])\n",
    "\n",
    "# Save the final submission\n",
    "final_submission.to_csv('ridge_submission.csv', index=False)\n"
   ]
  }
 ],
 "metadata": {
  "kernelspec": {
   "display_name": "Python 3",
   "language": "python",
   "name": "python3"
  },
  "language_info": {
   "codemirror_mode": {
    "name": "ipython",
    "version": 3
   },
   "file_extension": ".py",
   "mimetype": "text/x-python",
   "name": "python",
   "nbconvert_exporter": "python",
   "pygments_lexer": "ipython3",
   "version": "3.12.3"
  }
 },
 "nbformat": 4,
 "nbformat_minor": 2
}
