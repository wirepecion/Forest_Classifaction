{
 "cells": [
  {
   "cell_type": "markdown",
   "metadata": {},
   "source": [
    "Encoding and Dataset:"
   ]
  },
  {
   "cell_type": "code",
   "execution_count": 1,
   "metadata": {},
   "outputs": [],
   "source": [
    "import pandas as pd\n",
    "import torch\n",
    "import torch.nn as nn\n",
    "import torch.optim as optim\n",
    "from sklearn.preprocessing import LabelEncoder, StandardScaler\n",
    "from sklearn.decomposition import PCA\n",
    "from sklearn.model_selection import train_test_split\n",
    "from torch.utils.data import DataLoader, TensorDataset"
   ]
  },
  {
   "cell_type": "code",
   "execution_count": 2,
   "metadata": {},
   "outputs": [],
   "source": [
    "# Load datasets\n",
    "train_df = pd.read_csv('train.csv')\n",
    "test_df = pd.read_csv('test.csv')"
   ]
  },
  {
   "cell_type": "code",
   "execution_count": 3,
   "metadata": {},
   "outputs": [],
   "source": [
    "# Encode the target variable\n",
    "label_encoder = LabelEncoder()\n",
    "train_df['nforest_type_encoded'] = label_encoder.fit_transform(train_df['nforest_type'])\n",
    "\n",
    "# Define features and target\n",
    "X = train_df.drop(columns=['id', 'nforest_type', 'nforest_type_encoded'])\n",
    "y = train_df['nforest_type_encoded']\n",
    "\n",
    "# Standardize the features\n",
    "scaler = StandardScaler()\n",
    "X_scaled = scaler.fit_transform(X)\n",
    "\n",
    "# Optionally, use PCA for dimensionality reduction\n",
    "pca = PCA(n_components=10)  # Adjust n_components as needed\n",
    "X_pca = pca.fit_transform(X_scaled)\n",
    "\n",
    "# Split the transformed data into training and validation sets\n",
    "X_train, X_val, y_train, y_val = train_test_split(X_pca, y, test_size=0.2, random_state=42)\n",
    "\n",
    "# Convert data to PyTorch tensors\n",
    "X_train_tensor = torch.tensor(X_train, dtype=torch.float32)\n",
    "y_train_tensor = torch.tensor(y_train.values, dtype=torch.long)  # Convert Series to numpy array first\n",
    "X_val_tensor = torch.tensor(X_val, dtype=torch.float32)\n",
    "y_val_tensor = torch.tensor(y_val.values, dtype=torch.long)  # Convert Series to numpy array first\n",
    "\n",
    "# Create data loaders\n",
    "train_dataset = TensorDataset(X_train_tensor, y_train_tensor)\n",
    "val_dataset = TensorDataset(X_val_tensor, y_val_tensor)\n",
    "train_loader = DataLoader(train_dataset, batch_size=32, shuffle=True)\n",
    "val_loader = DataLoader(val_dataset, batch_size=32, shuffle=False)"
   ]
  },
  {
   "cell_type": "markdown",
   "metadata": {},
   "source": [
    "Define and Train the Neural Network:"
   ]
  },
  {
   "cell_type": "code",
   "execution_count": 6,
   "metadata": {},
   "outputs": [
    {
     "name": "stdout",
     "output_type": "stream",
     "text": [
      "Epoch 1/50, Train Loss: 0.9830, Val Loss: 0.8469, Val Accuracy: 62.89%\n",
      "Epoch 2/50, Train Loss: 0.9000, Val Loss: 0.8041, Val Accuracy: 63.69%\n",
      "Epoch 3/50, Train Loss: 0.8748, Val Loss: 0.7687, Val Accuracy: 67.22%\n",
      "Epoch 4/50, Train Loss: 0.8469, Val Loss: 0.7587, Val Accuracy: 68.10%\n",
      "Epoch 5/50, Train Loss: 0.8401, Val Loss: 0.7500, Val Accuracy: 68.63%\n",
      "Epoch 6/50, Train Loss: 0.8330, Val Loss: 0.7446, Val Accuracy: 68.13%\n",
      "Epoch 7/50, Train Loss: 0.8267, Val Loss: 0.7255, Val Accuracy: 68.21%\n",
      "Epoch 8/50, Train Loss: 0.8171, Val Loss: 0.7337, Val Accuracy: 68.21%\n",
      "Epoch 9/50, Train Loss: 0.8099, Val Loss: 0.7356, Val Accuracy: 67.91%\n",
      "Epoch 10/50, Train Loss: 0.8092, Val Loss: 0.7203, Val Accuracy: 68.79%\n",
      "Epoch 11/50, Train Loss: 0.8059, Val Loss: 0.7183, Val Accuracy: 69.02%\n",
      "Epoch 12/50, Train Loss: 0.7993, Val Loss: 0.7162, Val Accuracy: 68.86%\n",
      "Epoch 13/50, Train Loss: 0.8021, Val Loss: 0.7142, Val Accuracy: 69.13%\n",
      "Epoch 14/50, Train Loss: 0.7993, Val Loss: 0.7169, Val Accuracy: 69.17%\n",
      "Epoch 15/50, Train Loss: 0.8045, Val Loss: 0.7205, Val Accuracy: 68.56%\n",
      "Epoch 16/50, Train Loss: 0.8081, Val Loss: 0.7179, Val Accuracy: 69.02%\n",
      "Epoch 17/50, Train Loss: 0.8006, Val Loss: 0.7176, Val Accuracy: 69.36%\n",
      "Epoch 18/50, Train Loss: 0.7924, Val Loss: 0.7148, Val Accuracy: 69.44%\n",
      "Epoch 19/50, Train Loss: 0.8030, Val Loss: 0.7139, Val Accuracy: 69.05%\n",
      "Epoch 20/50, Train Loss: 0.7926, Val Loss: 0.7129, Val Accuracy: 68.79%\n",
      "Epoch 21/50, Train Loss: 0.7941, Val Loss: 0.7125, Val Accuracy: 68.94%\n",
      "Epoch 22/50, Train Loss: 0.7931, Val Loss: 0.7167, Val Accuracy: 68.98%\n",
      "Epoch 23/50, Train Loss: 0.7971, Val Loss: 0.7141, Val Accuracy: 69.21%\n",
      "Epoch 24/50, Train Loss: 0.7987, Val Loss: 0.7113, Val Accuracy: 68.98%\n",
      "Epoch 25/50, Train Loss: 0.7996, Val Loss: 0.7294, Val Accuracy: 67.71%\n",
      "Epoch 26/50, Train Loss: 0.7928, Val Loss: 0.7167, Val Accuracy: 68.79%\n",
      "Epoch 27/50, Train Loss: 0.7966, Val Loss: 0.7147, Val Accuracy: 68.75%\n",
      "Epoch 28/50, Train Loss: 0.7969, Val Loss: 0.7161, Val Accuracy: 68.98%\n",
      "Epoch 29/50, Train Loss: 0.7983, Val Loss: 0.7130, Val Accuracy: 68.98%\n",
      "Epoch 30/50, Train Loss: 0.7938, Val Loss: 0.7102, Val Accuracy: 69.13%\n",
      "Epoch 31/50, Train Loss: 0.7932, Val Loss: 0.7122, Val Accuracy: 69.17%\n",
      "Epoch 32/50, Train Loss: 0.7975, Val Loss: 0.7155, Val Accuracy: 68.90%\n",
      "Epoch 33/50, Train Loss: 0.7938, Val Loss: 0.7204, Val Accuracy: 68.67%\n",
      "Epoch 34/50, Train Loss: 0.7894, Val Loss: 0.7128, Val Accuracy: 68.75%\n",
      "Epoch 35/50, Train Loss: 0.7951, Val Loss: 0.7133, Val Accuracy: 69.51%\n",
      "Epoch 36/50, Train Loss: 0.7981, Val Loss: 0.7141, Val Accuracy: 68.86%\n",
      "Epoch 37/50, Train Loss: 0.7867, Val Loss: 0.7152, Val Accuracy: 69.32%\n",
      "Epoch 38/50, Train Loss: 0.7952, Val Loss: 0.7138, Val Accuracy: 68.82%\n",
      "Epoch 39/50, Train Loss: 0.7939, Val Loss: 0.7146, Val Accuracy: 69.02%\n",
      "Epoch 40/50, Train Loss: 0.7890, Val Loss: 0.7170, Val Accuracy: 68.56%\n",
      "Epoch 41/50, Train Loss: 0.7939, Val Loss: 0.7130, Val Accuracy: 68.98%\n",
      "Epoch 42/50, Train Loss: 0.7885, Val Loss: 0.7120, Val Accuracy: 68.63%\n",
      "Epoch 43/50, Train Loss: 0.7910, Val Loss: 0.7158, Val Accuracy: 69.32%\n",
      "Epoch 44/50, Train Loss: 0.7947, Val Loss: 0.7127, Val Accuracy: 69.17%\n",
      "Epoch 45/50, Train Loss: 0.7887, Val Loss: 0.7141, Val Accuracy: 69.13%\n",
      "Epoch 46/50, Train Loss: 0.7893, Val Loss: 0.7127, Val Accuracy: 69.05%\n",
      "Epoch 47/50, Train Loss: 0.7888, Val Loss: 0.7189, Val Accuracy: 68.90%\n",
      "Epoch 48/50, Train Loss: 0.7916, Val Loss: 0.7183, Val Accuracy: 68.90%\n",
      "Epoch 49/50, Train Loss: 0.7923, Val Loss: 0.7130, Val Accuracy: 69.21%\n",
      "Epoch 50/50, Train Loss: 0.7952, Val Loss: 0.7156, Val Accuracy: 69.25%\n"
     ]
    }
   ],
   "source": [
    "class ForestNN(nn.Module):\n",
    "    def __init__(self, input_dim, hidden_dim, output_dim):\n",
    "        super(ForestNN, self).__init__()\n",
    "        self.fc1 = nn.Linear(input_dim, hidden_dim)\n",
    "        self.bn1 = nn.BatchNorm1d(hidden_dim)\n",
    "        self.fc2 = nn.Linear(hidden_dim, hidden_dim)\n",
    "        self.bn2 = nn.BatchNorm1d(hidden_dim)\n",
    "        self.fc3 = nn.Linear(hidden_dim, hidden_dim)\n",
    "        self.bn3 = nn.BatchNorm1d(hidden_dim)\n",
    "        self.fc4 = nn.Linear(hidden_dim, output_dim)\n",
    "        self.relu = nn.ReLU()\n",
    "        self.dropout = nn.Dropout(0.5)\n",
    "    \n",
    "    def forward(self, x):\n",
    "        out = self.fc1(x)\n",
    "        out = self.bn1(out)\n",
    "        out = self.relu(out)\n",
    "        out = self.dropout(out)\n",
    "        \n",
    "        out = self.fc2(out)\n",
    "        out = self.bn2(out)\n",
    "        out = self.relu(out)\n",
    "        out = self.dropout(out)\n",
    "        \n",
    "        out = self.fc3(out)\n",
    "        out = self.bn3(out)\n",
    "        out = self.relu(out)\n",
    "        out = self.dropout(out)\n",
    "        \n",
    "        out = self.fc4(out)\n",
    "        return out\n",
    "\n",
    "# Initialize the neural network, loss function and optimizer\n",
    "input_dim = X_train.shape[1]\n",
    "hidden_dim = 128\n",
    "output_dim = len(label_encoder.classes_)\n",
    "model = ForestNN(input_dim, hidden_dim, output_dim)\n",
    "criterion = nn.CrossEntropyLoss()\n",
    "optimizer = optim.AdamW(model.parameters(), lr=0.001)\n",
    "\n",
    "# Learning rate scheduler\n",
    "scheduler = optim.lr_scheduler.StepLR(optimizer, step_size=10, gamma=0.1)\n",
    "\n",
    "# Train the neural network\n",
    "num_epochs = 50\n",
    "train_losses = []\n",
    "val_losses = []\n",
    "\n",
    "for epoch in range(num_epochs):\n",
    "    model.train()\n",
    "    running_loss = 0.0\n",
    "    for inputs, labels in train_loader:\n",
    "        optimizer.zero_grad()\n",
    "        outputs = model(inputs)\n",
    "        loss = criterion(outputs, labels)\n",
    "        loss.backward()\n",
    "        optimizer.step()\n",
    "        running_loss += loss.item()\n",
    "    train_losses.append(running_loss / len(train_loader))\n",
    "    \n",
    "    model.eval()\n",
    "    val_loss = 0.0\n",
    "    correct = 0\n",
    "    total = 0\n",
    "    with torch.no_grad():\n",
    "        for inputs, labels in val_loader:\n",
    "            outputs = model(inputs)\n",
    "            loss = criterion(outputs, labels)\n",
    "            val_loss += loss.item()\n",
    "            _, predicted = torch.max(outputs.data, 1)\n",
    "            total += labels.size(0)\n",
    "            correct += (predicted == labels).sum().item()\n",
    "    val_losses.append(val_loss / len(val_loader))\n",
    "    \n",
    "    scheduler.step()\n",
    "    \n",
    "    print(f'Epoch {epoch+1}/{num_epochs}, '\n",
    "          f'Train Loss: {train_losses[-1]:.4f}, '\n",
    "          f'Val Loss: {val_losses[-1]:.4f}, '\n",
    "          f'Val Accuracy: {100 * correct / total:.2f}%')\n"
   ]
  },
  {
   "cell_type": "code",
   "execution_count": 7,
   "metadata": {},
   "outputs": [
    {
     "data": {
      "image/png": "[encoded data removed]",
      "text/plain": [
       "<Figure size 1000x500 with 1 Axes>"
      ]
     },
     "metadata": {},
     "output_type": "display_data"
    }
   ],
   "source": [
    "import matplotlib.pyplot as plt\n",
    "# Plot training and validation loss\n",
    "plt.figure(figsize=(10, 5))\n",
    "plt.plot(range(1, num_epochs+1), train_losses, label='Train Loss')\n",
    "plt.plot(range(1, num_epochs+1), val_losses, label='Val Loss')\n",
    "plt.xlabel('Epochs')\n",
    "plt.ylabel('Loss')\n",
    "plt.title('Training and Validation Loss')\n",
    "plt.legend()\n",
    "plt.show()"
   ]
  },
  {
   "cell_type": "markdown",
   "metadata": {},
   "source": [
    "Make Prediction:"
   ]
  },
  {
   "cell_type": "code",
   "execution_count": 7,
   "metadata": {},
   "outputs": [],
   "source": [
    "# Prepare the test data\n",
    "test_X = test_df.drop(columns=['id'])\n",
    "test_X_scaled = scaler.transform(test_X)\n",
    "test_X_pca = pca.transform(test_X_scaled)\n",
    "test_X_tensor = torch.tensor(test_X_pca, dtype=torch.float32)\n",
    "\n",
    "# Make predictions\n",
    "model.eval()\n",
    "with torch.no_grad():\n",
    "    test_outputs = model(test_X_tensor)\n",
    "    _, test_predictions = torch.max(test_outputs.data, 1)\n",
    "\n",
    "test_predictions_decoded = label_encoder.inverse_transform(test_predictions.numpy())"
   ]
  },
  {
   "cell_type": "markdown",
   "metadata": {},
   "source": [
    "Inference:"
   ]
  },
  {
   "cell_type": "code",
   "execution_count": 8,
   "metadata": {},
   "outputs": [],
   "source": [
    "# Load your sample submission file\n",
    "sample_submission = pd.read_csv('sample_submission.csv')\n",
    "\n",
    "# Merge the test data with sample submission to fill in the predicted values\n",
    "predictions_df = pd.DataFrame({'id': test_df['id'], 'nforest_type': test_predictions_decoded})\n",
    "final_submission = sample_submission.merge(predictions_df, on='id', how='left', suffixes=('', '_predicted'))\n",
    "\n",
    "# Fill the missing values in sample submission with the predicted values\n",
    "final_submission['nforest_type'] = final_submission['nforest_type'].combine_first(final_submission['nforest_type_predicted'])\n",
    "\n",
    "# Drop the predicted column as it's no longer needed\n",
    "final_submission = final_submission.drop(columns=['nforest_type_predicted'])\n",
    "\n",
    "# Save the final submission\n",
    "final_submission.to_csv('/submitfile/NN++.csv', index=False)"
   ]
  }
 ],
 "metadata": {
  "kernelspec": {
   "display_name": "Python 3",
   "language": "python",
   "name": "python3"
  },
  "language_info": {
   "codemirror_mode": {
    "name": "ipython",
    "version": 3
   },
   "file_extension": ".py",
   "mimetype": "text/x-python",
   "name": "python",
   "nbconvert_exporter": "python",
   "pygments_lexer": "ipython3",
   "version": "3.12.3"
  }
 },
 "nbformat": 4,
 "nbformat_minor": 2
}
