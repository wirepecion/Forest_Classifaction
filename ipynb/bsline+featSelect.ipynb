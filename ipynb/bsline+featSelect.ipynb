{
 "cells": [
  {
   "cell_type": "markdown",
   "metadata": {},
   "source": [
    "Encode and Loading Dataset:"
   ]
  },
  {
   "cell_type": "code",
   "execution_count": null,
   "metadata": {},
   "outputs": [],
   "source": [
    "import pandas as pd\n",
    "from sklearn.preprocessing import LabelEncoder, StandardScaler\n",
    "from sklearn.decomposition import PCA\n",
    "from sklearn.model_selection import train_test_split\n",
    "from sklearn.feature_selection import RFE\n",
    "from sklearn.ensemble import RandomForestClassifier"
   ]
  },
  {
   "cell_type": "code",
   "execution_count": null,
   "metadata": {},
   "outputs": [],
   "source": [
    "# Load datasets\n",
    "train_df = pd.read_csv('train.csv')\n",
    "test_df = pd.read_csv('test.csv')\n",
    "\n",
    "# Encode the target variable\n",
    "label_encoder = LabelEncoder()\n",
    "train_df['nforest_type_encoded'] = label_encoder.fit_transform(train_df['nforest_type'])\n",
    "\n",
    "# Define features and target\n",
    "X = train_df.drop(columns=['id', 'nforest_type', 'nforest_type_encoded'])\n",
    "y = train_df['nforest_type_encoded']\n",
    "\n",
    "# Standardize the features\n",
    "scaler = StandardScaler()\n",
    "X_scaled = scaler.fit_transform(X)\n",
    "\n",
    "# Perform Recursive Feature Elimination (RFE)\n",
    "model = RandomForestClassifier(n_estimators=100, random_state=42)\n",
    "rfe = RFE(estimator=model, n_features_to_select=10)  # Adjust the number of features to select\n",
    "X_rfe = rfe.fit_transform(X_scaled, y)\n",
    "\n",
    "# Optionally, use PCA for dimensionality reduction\n",
    "pca = PCA(n_components=10)  # Adjust n_components as needed\n",
    "X_pca = pca.fit_transform(X_rfe)\n",
    "\n",
    "# Split the transformed data into training and validation sets\n",
    "X_train, X_val, y_train, y_val = train_test_split(X_pca, y, test_size=0.2, random_state=42)"
   ]
  },
  {
   "cell_type": "markdown",
   "metadata": {},
   "source": [
    "Train classification model:"
   ]
  },
  {
   "cell_type": "code",
   "execution_count": null,
   "metadata": {},
   "outputs": [],
   "source": [
    "from sklearn.metrics import classification_report, accuracy_score\n",
    "from sklearn.model_selection import cross_val_score"
   ]
  },
  {
   "cell_type": "code",
   "execution_count": null,
   "metadata": {},
   "outputs": [],
   "source": [
    "# Train a Random Forest classifier\n",
    "model = RandomForestClassifier(n_estimators=100, random_state=42)\n",
    "model.fit(X_train, y_train)\n",
    "\n",
    "# Evaluate the model using cross-validation\n",
    "cv_scores = cross_val_score(model, X_pca, y, cv=5)\n",
    "print(f\"Cross-Validation Scores: {cv_scores}\")\n",
    "print(f\"Mean CV Score: {cv_scores.mean()}\")\n",
    "\n",
    "# Validate the model on the validation set\n",
    "y_pred = model.predict(X_val)\n",
    "print(classification_report(y_val, y_pred))\n",
    "print('Validation Accuracy:', accuracy_score(y_val, y_pred))\n"
   ]
  },
  {
   "cell_type": "markdown",
   "metadata": {},
   "source": [
    "Make prediction:"
   ]
  },
  {
   "cell_type": "code",
   "execution_count": null,
   "metadata": {},
   "outputs": [],
   "source": [
    "# Prepare the test data\n",
    "test_X = test_df.drop(columns=['id'])\n",
    "test_X_scaled = scaler.transform(test_X)\n",
    "test_X_rfe = rfe.transform(test_X_scaled)\n",
    "test_X_pca = pca.transform(test_X_rfe)\n",
    "\n",
    "# Make predictions\n",
    "test_predictions = model.predict(test_X_pca)\n",
    "test_predictions_decoded = label_encoder.inverse_transform(test_predictions)"
   ]
  },
  {
   "cell_type": "markdown",
   "metadata": {},
   "source": [
    "Inference to submission:"
   ]
  },
  {
   "cell_type": "code",
   "execution_count": null,
   "metadata": {},
   "outputs": [],
   "source": [
    "\n",
    "# Load your sample submission file\n",
    "sample_submission = pd.read_csv('sample_submission.csv')\n",
    "\n",
    "# Merge the test data with sample submission to fill in the predicted values\n",
    "predictions_df = pd.DataFrame({'id': test_df['id'], 'nforest_type': test_predictions_decoded})\n",
    "final_submission = sample_submission.merge(predictions_df, on='id', how='left', suffixes=('', '_predicted'))\n",
    "\n",
    "# Fill the missing values in sample submission with the predicted values\n",
    "final_submission['nforest_type'] = final_submission['nforest_type'].combine_first(final_submission['nforest_type_predicted'])\n",
    "\n",
    "# Drop the predicted column as it's no longer needed\n",
    "final_submission = final_submission.drop(columns=['nforest_type_predicted'])\n",
    "\n",
    "# Save the final submission\n",
    "final_submission.to_csv('bsline+featSelect.csv', index=False)\n"
   ]
  }
 ],
 "metadata": {
  "kernelspec": {
   "display_name": "Python 3",
   "language": "python",
   "name": "python3"
  },
  "language_info": {
   "codemirror_mode": {
    "name": "ipython",
    "version": 3
   },
   "file_extension": ".py",
   "mimetype": "text/x-python",
   "name": "python",
   "nbconvert_exporter": "python",
   "pygments_lexer": "ipython3",
   "version": "3.12.3"
  }
 },
 "nbformat": 4,
 "nbformat_minor": 2
}
