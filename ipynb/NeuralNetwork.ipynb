{
 "cells": [
  {
   "cell_type": "markdown",
   "metadata": {},
   "source": [
    "Encoding and Dataset:"
   ]
  },
  {
   "cell_type": "code",
   "execution_count": 30,
   "metadata": {},
   "outputs": [],
   "source": [
    "import pandas as pd\n",
    "import matplotlib.pyplot as plt\n",
    "import torch\n",
    "import torch.nn as nn\n",
    "import torch.optim as optim\n",
    "from sklearn.preprocessing import LabelEncoder, StandardScaler\n",
    "from sklearn.decomposition import PCA\n",
    "from sklearn.model_selection import train_test_split\n",
    "from torch.utils.data import DataLoader, TensorDataset"
   ]
  },
  {
   "cell_type": "code",
   "execution_count": 31,
   "metadata": {},
   "outputs": [],
   "source": [
    "# Load datasets\n",
    "train_df = pd.read_csv('train.csv')\n",
    "test_df = pd.read_csv('test.csv')\n",
    "\n",
    "# Encode the target variable\n",
    "label_encoder = LabelEncoder()\n",
    "train_df['nforest_type_encoded'] = label_encoder.fit_transform(train_df['nforest_type'])\n",
    "\n",
    "# Define features and target\n",
    "X = train_df.drop(columns=['id', 'nforest_type', 'nforest_type_encoded'])\n",
    "y = train_df['nforest_type_encoded']\n",
    "\n",
    "# Standardize the features\n",
    "scaler = StandardScaler()\n",
    "X_scaled = scaler.fit_transform(X)\n",
    "\n",
    "# Optionally, use PCA for dimensionality reduction\n",
    "pca = PCA(n_components=10)  # Adjust n_components as needed\n",
    "X_pca = pca.fit_transform(X_scaled)\n",
    "\n",
    "# Split the transformed data into training and validation sets\n",
    "X_train, X_val, y_train, y_val = train_test_split(X_pca, y, test_size=0.2, random_state=42)\n",
    "\n",
    "# Convert data to PyTorch tensors\n",
    "X_train_tensor = torch.tensor(X_train, dtype=torch.float32)\n",
    "y_train_tensor = torch.tensor(y_train.values, dtype=torch.long)  # Convert Series to numpy array first\n",
    "X_val_tensor = torch.tensor(X_val, dtype=torch.float32)\n",
    "y_val_tensor = torch.tensor(y_val.values, dtype=torch.long)  # Convert Series to numpy array first\n",
    "\n",
    "# Create data loaders\n",
    "train_dataset = TensorDataset(X_train_tensor, y_train_tensor)\n",
    "val_dataset = TensorDataset(X_val_tensor, y_val_tensor)\n",
    "train_loader = DataLoader(train_dataset, batch_size=32, shuffle=True)\n",
    "val_loader = DataLoader(val_dataset, batch_size=32, shuffle=False)\n"
   ]
  },
  {
   "cell_type": "markdown",
   "metadata": {},
   "source": [
    "Define and Train the Neural Network:"
   ]
  },
  {
   "cell_type": "code",
   "execution_count": 38,
   "metadata": {},
   "outputs": [
    {
     "name": "stdout",
     "output_type": "stream",
     "text": [
      "Epoch 1/16, Train Loss: 0.8884, Val Loss: 0.8000, Val Accuracy: 65.26%\n",
      "Epoch 2/16, Train Loss: 0.7969, Val Loss: 0.7490, Val Accuracy: 66.10%\n",
      "Epoch 3/16, Train Loss: 0.7639, Val Loss: 0.7431, Val Accuracy: 67.18%\n",
      "Epoch 4/16, Train Loss: 0.7497, Val Loss: 0.7203, Val Accuracy: 68.67%\n",
      "Epoch 5/16, Train Loss: 0.7373, Val Loss: 0.7129, Val Accuracy: 69.67%\n",
      "Epoch 6/16, Train Loss: 0.7302, Val Loss: 0.7011, Val Accuracy: 69.71%\n",
      "Epoch 7/16, Train Loss: 0.7219, Val Loss: 0.7175, Val Accuracy: 68.02%\n",
      "Epoch 8/16, Train Loss: 0.7166, Val Loss: 0.6983, Val Accuracy: 69.78%\n",
      "Epoch 9/16, Train Loss: 0.7080, Val Loss: 0.7025, Val Accuracy: 68.44%\n",
      "Epoch 10/16, Train Loss: 0.7017, Val Loss: 0.6918, Val Accuracy: 70.20%\n",
      "Epoch 11/16, Train Loss: 0.6962, Val Loss: 0.6864, Val Accuracy: 70.36%\n",
      "Epoch 12/16, Train Loss: 0.6919, Val Loss: 0.6933, Val Accuracy: 69.48%\n",
      "Epoch 13/16, Train Loss: 0.6866, Val Loss: 0.6799, Val Accuracy: 71.08%\n",
      "Epoch 14/16, Train Loss: 0.6816, Val Loss: 0.6926, Val Accuracy: 70.05%\n",
      "Epoch 15/16, Train Loss: 0.6776, Val Loss: 0.6817, Val Accuracy: 69.25%\n",
      "Epoch 16/16, Train Loss: 0.6741, Val Loss: 0.6734, Val Accuracy: 70.36%\n"
     ]
    }
   ],
   "source": [
    "class ForestNN(nn.Module):\n",
    "    def __init__(self, input_dim, hidden_dim, output_dim):\n",
    "        super(ForestNN, self).__init__()\n",
    "        self.fc1 = nn.Linear(input_dim, hidden_dim)\n",
    "        self.fc2 = nn.Linear(hidden_dim, hidden_dim)\n",
    "        self.fc3 = nn.Linear(hidden_dim, output_dim)\n",
    "        self.relu = nn.ReLU()\n",
    "    \n",
    "    def forward(self, x):\n",
    "        out = self.fc1(x)\n",
    "        out = self.relu(out)\n",
    "        out = self.fc2(out)\n",
    "        out = self.relu(out)\n",
    "        out = self.fc3(out)\n",
    "        return out\n",
    "\n",
    "# Initialize the neural network, loss function and optimizer\n",
    "input_dim = X_train.shape[1]\n",
    "hidden_dim = 256  # Increase the number of neurons\n",
    "output_dim = len(label_encoder.classes_)\n",
    "model = ForestNN(input_dim, hidden_dim, output_dim)\n",
    "criterion = nn.CrossEntropyLoss()\n",
    "optimizer = optim.AdamW(model.parameters(), lr=0.001)\n",
    "\n",
    "# Learning rate scheduler\n",
    "scheduler = optim.lr_scheduler.OneCycleLR(optimizer, max_lr=0.01, steps_per_epoch=len(train_loader), epochs=50)\n",
    "\n",
    "# Early stopping parameters\n",
    "early_stopping_patience = 5\n",
    "best_val_loss = float('inf')\n",
    "epochs_no_improve = 0\n",
    "\n",
    "# Train the neural network\n",
    "num_epochs = 16\n",
    "train_losses = []\n",
    "val_losses = []\n",
    "\n",
    "\n",
    "for epoch in range(num_epochs):\n",
    "    model.train()\n",
    "    running_loss = 0.0\n",
    "    for inputs, labels in train_loader:\n",
    "        optimizer.zero_grad()\n",
    "        outputs = model(inputs)\n",
    "        loss = criterion(outputs, labels)\n",
    "        loss.backward()\n",
    "        optimizer.step()\n",
    "        running_loss += loss.item()\n",
    "    train_losses.append(running_loss / len(train_loader))\n",
    "    \n",
    "    \n",
    "    model.eval()\n",
    "    val_loss = 0.0\n",
    "    correct = 0\n",
    "    total = 0\n",
    "    \n",
    "    with torch.no_grad():\n",
    "        for inputs, labels in val_loader:\n",
    "            outputs = model(inputs)\n",
    "            loss = criterion(outputs, labels)\n",
    "            val_loss += loss.item()\n",
    "            _, predicted = torch.max(outputs.data, 1)\n",
    "            total += labels.size(0)\n",
    "            correct += (predicted == labels).sum().item()\n",
    "    val_losses.append(val_loss / len(val_loader))\n",
    "    \n",
    "    scheduler.step()\n",
    "    \n",
    "    print(f'Epoch {epoch+1}/{num_epochs}, '\n",
    "          f'Train Loss: {train_losses[-1]:.4f}, '\n",
    "          f'Val Loss: {val_losses[-1]:.4f}, '\n",
    "          f'Val Accuracy: {100 * correct / total:.2f}%')\n",
    "\n",
    "    # # Early stopping\n",
    "    # if val_loss < best_val_loss:\n",
    "    #     best_val_loss = val_loss\n",
    "    #     epochs_no_improve = 0\n",
    "    # else:\n",
    "    #     epochs_no_improve += 1\n",
    "\n",
    "    # if epochs_no_improve == early_stopping_patience:\n",
    "    #     print(f'Early stopping at epoch {epoch+1}')\n",
    "    #     break"
   ]
  },
  {
   "cell_type": "code",
   "execution_count": 39,
   "metadata": {},
   "outputs": [
    {
     "data": {
      "image/png": "[encoded data removed]",
      "text/plain": [
       "<Figure size 1000x500 with 1 Axes>"
      ]
     },
     "metadata": {},
     "output_type": "display_data"
    }
   ],
   "source": [
    "plt.figure(figsize=(10, 5))\n",
    "plt.plot(range(1, len(train_losses) + 1), train_losses, label='Train Loss')\n",
    "plt.plot(range(1, len(val_losses) + 1), val_losses, label='Val Loss')\n",
    "plt.xlabel('Epochs')\n",
    "plt.ylabel('Loss')\n",
    "plt.title('Training and Validation Loss')\n",
    "plt.legend()\n",
    "plt.show()"
   ]
  },
  {
   "cell_type": "markdown",
   "metadata": {},
   "source": [
    "Make Prediction:"
   ]
  },
  {
   "cell_type": "code",
   "execution_count": 40,
   "metadata": {},
   "outputs": [],
   "source": [
    "# Prepare the test data\n",
    "test_X = test_df.drop(columns=['id'])\n",
    "test_X_scaled = scaler.transform(test_X)\n",
    "test_X_pca = pca.transform(test_X_scaled)\n",
    "test_X_tensor = torch.tensor(test_X_pca, dtype=torch.float32)\n",
    "\n",
    "# Make predictions\n",
    "model.eval()\n",
    "with torch.no_grad():\n",
    "    test_outputs = model(test_X_tensor)\n",
    "    _, test_predictions = torch.max(test_outputs.data, 1)\n",
    "\n",
    "test_predictions_decoded = label_encoder.inverse_transform(test_predictions.numpy())\n"
   ]
  },
  {
   "cell_type": "markdown",
   "metadata": {},
   "source": [
    "Inference:"
   ]
  },
  {
   "cell_type": "code",
   "execution_count": 41,
   "metadata": {},
   "outputs": [],
   "source": [
    "# Load your sample submission file\n",
    "sample_submission = pd.read_csv('sample_submission.csv')\n",
    "\n",
    "# Merge the test data with sample submission to fill in the predicted values\n",
    "predictions_df = pd.DataFrame({'id': test_df['id'], 'nforest_type': test_predictions_decoded})\n",
    "final_submission = sample_submission.merge(predictions_df, on='id', how='left', suffixes=('', '_predicted'))\n",
    "\n",
    "# Fill the missing values in sample submission with the predicted values\n",
    "final_submission['nforest_type'] = final_submission['nforest_type'].combine_first(final_submission['nforest_type_predicted'])\n",
    "\n",
    "# Drop the predicted column as it's no longer needed\n",
    "final_submission = final_submission.drop(columns=['nforest_type_predicted'])\n",
    "\n",
    "# Save the final submission\n",
    "final_submission.to_csv('submitfile/NNAdamW.csv', index=False)"
   ]
  },
  {
   "cell_type": "code",
   "execution_count": null,
   "metadata": {},
   "outputs": [],
   "source": []
  }
 ],
 "metadata": {
  "kernelspec": {
   "display_name": "Python 3",
   "language": "python",
   "name": "python3"
  },
  "language_info": {
   "codemirror_mode": {
    "name": "ipython",
    "version": 3
   },
   "file_extension": ".py",
   "mimetype": "text/x-python",
   "name": "python",
   "nbconvert_exporter": "python",
   "pygments_lexer": "ipython3",
   "version": "3.12.3"
  }
 },
 "nbformat": 4,
 "nbformat_minor": 2
}
